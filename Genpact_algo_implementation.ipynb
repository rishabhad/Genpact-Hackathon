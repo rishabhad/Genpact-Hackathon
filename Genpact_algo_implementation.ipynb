{
 "cells": [
  {
   "cell_type": "code",
   "execution_count": 1,
   "metadata": {},
   "outputs": [],
   "source": [
    "import pandas as pd\n",
    "import numpy as np\n",
    "import matplotlib.pyplot as plt\n",
    "from sklearn.metrics import mean_squared_log_error;\n",
    "from sklearn.model_selection import train_test_split;"
   ]
  },
  {
   "cell_type": "code",
   "execution_count": 2,
   "metadata": {},
   "outputs": [],
   "source": [
    "full_data=pd.read_csv('fulfilment_center_info.csv')\n",
    "meal_data=pd.read_csv('meal_info.csv')\n",
    "train_data=pd.read_csv('train.csv')\n",
    "test_data=pd.read_csv('test.csv')"
   ]
  },
  {
   "cell_type": "code",
   "execution_count": 3,
   "metadata": {},
   "outputs": [
    {
     "data": {
      "text/html": [
       "<div>\n",
       "<style scoped>\n",
       "    .dataframe tbody tr th:only-of-type {\n",
       "        vertical-align: middle;\n",
       "    }\n",
       "\n",
       "    .dataframe tbody tr th {\n",
       "        vertical-align: top;\n",
       "    }\n",
       "\n",
       "    .dataframe thead th {\n",
       "        text-align: right;\n",
       "    }\n",
       "</style>\n",
       "<table border=\"1\" class=\"dataframe\">\n",
       "  <thead>\n",
       "    <tr style=\"text-align: right;\">\n",
       "      <th></th>\n",
       "      <th>id</th>\n",
       "      <th>week</th>\n",
       "      <th>center_id</th>\n",
       "      <th>meal_id</th>\n",
       "      <th>checkout_price</th>\n",
       "      <th>base_price</th>\n",
       "      <th>emailer_for_promotion</th>\n",
       "      <th>homepage_featured</th>\n",
       "      <th>num_orders</th>\n",
       "    </tr>\n",
       "  </thead>\n",
       "  <tbody>\n",
       "    <tr>\n",
       "      <th>0</th>\n",
       "      <td>1379560</td>\n",
       "      <td>1</td>\n",
       "      <td>55</td>\n",
       "      <td>1885</td>\n",
       "      <td>136.83</td>\n",
       "      <td>152.29</td>\n",
       "      <td>0</td>\n",
       "      <td>0</td>\n",
       "      <td>177</td>\n",
       "    </tr>\n",
       "    <tr>\n",
       "      <th>1</th>\n",
       "      <td>1466964</td>\n",
       "      <td>1</td>\n",
       "      <td>55</td>\n",
       "      <td>1993</td>\n",
       "      <td>136.83</td>\n",
       "      <td>135.83</td>\n",
       "      <td>0</td>\n",
       "      <td>0</td>\n",
       "      <td>270</td>\n",
       "    </tr>\n",
       "    <tr>\n",
       "      <th>2</th>\n",
       "      <td>1346989</td>\n",
       "      <td>1</td>\n",
       "      <td>55</td>\n",
       "      <td>2539</td>\n",
       "      <td>134.86</td>\n",
       "      <td>135.86</td>\n",
       "      <td>0</td>\n",
       "      <td>0</td>\n",
       "      <td>189</td>\n",
       "    </tr>\n",
       "    <tr>\n",
       "      <th>3</th>\n",
       "      <td>1338232</td>\n",
       "      <td>1</td>\n",
       "      <td>55</td>\n",
       "      <td>2139</td>\n",
       "      <td>339.50</td>\n",
       "      <td>437.53</td>\n",
       "      <td>0</td>\n",
       "      <td>0</td>\n",
       "      <td>54</td>\n",
       "    </tr>\n",
       "    <tr>\n",
       "      <th>4</th>\n",
       "      <td>1448490</td>\n",
       "      <td>1</td>\n",
       "      <td>55</td>\n",
       "      <td>2631</td>\n",
       "      <td>243.50</td>\n",
       "      <td>242.50</td>\n",
       "      <td>0</td>\n",
       "      <td>0</td>\n",
       "      <td>40</td>\n",
       "    </tr>\n",
       "  </tbody>\n",
       "</table>\n",
       "</div>"
      ],
      "text/plain": [
       "        id  week  center_id  meal_id  checkout_price  base_price  \\\n",
       "0  1379560     1         55     1885          136.83      152.29   \n",
       "1  1466964     1         55     1993          136.83      135.83   \n",
       "2  1346989     1         55     2539          134.86      135.86   \n",
       "3  1338232     1         55     2139          339.50      437.53   \n",
       "4  1448490     1         55     2631          243.50      242.50   \n",
       "\n",
       "   emailer_for_promotion  homepage_featured  num_orders  \n",
       "0                      0                  0         177  \n",
       "1                      0                  0         270  \n",
       "2                      0                  0         189  \n",
       "3                      0                  0          54  \n",
       "4                      0                  0          40  "
      ]
     },
     "execution_count": 3,
     "metadata": {},
     "output_type": "execute_result"
    }
   ],
   "source": [
    "train_data.head()"
   ]
  },
  {
   "cell_type": "code",
   "execution_count": 4,
   "metadata": {},
   "outputs": [],
   "source": [
    "cnt=train_data['num_orders'].values\n",
    "q99=np.percentile(cnt,[99])\n",
    "\n",
    "\n",
    "train_df=train_data[train_data['num_orders']<q99[0]]\n",
    "#sns.distplot(train_df['num_orders'])\n",
    "#plt.show()"
   ]
  },
  {
   "cell_type": "code",
   "execution_count": 5,
   "metadata": {},
   "outputs": [],
   "source": [
    "train_data_com=pd.merge(train_df,full_data, how='left',on=['center_id'] )\n",
    "train_data_com=pd.merge(train_data_com,meal_data, how='left',on=['meal_id'] )"
   ]
  },
  {
   "cell_type": "code",
   "execution_count": 6,
   "metadata": {},
   "outputs": [],
   "source": [
    "train_data_com['num_orders']=train_data_com['num_orders'].apply(lambda x:np.log(x))"
   ]
  },
  {
   "cell_type": "code",
   "execution_count": 7,
   "metadata": {},
   "outputs": [],
   "source": [
    "y=train_data_com['num_orders'];"
   ]
  },
  {
   "cell_type": "code",
   "execution_count": 8,
   "metadata": {},
   "outputs": [],
   "source": [
    "test_data=pd.merge(test_data,full_data, how='left',on=['center_id'] )\n",
    "test_data=pd.merge(test_data,meal_data, how='left',on=['meal_id'] )"
   ]
  },
  {
   "cell_type": "code",
   "execution_count": 9,
   "metadata": {},
   "outputs": [
    {
     "name": "stdout",
     "output_type": "stream",
     "text": [
      "(451953, 14)\n",
      "(451953, 14)\n",
      "(32573, 14)\n"
     ]
    }
   ],
   "source": [
    "train_data_com.drop('num_orders',axis=1,inplace=True)\n",
    "print(train_data_com.shape)\n",
    "print(train_data_com.shape)\n",
    "print(test_data.shape)"
   ]
  },
  {
   "cell_type": "code",
   "execution_count": 10,
   "metadata": {},
   "outputs": [
    {
     "name": "stdout",
     "output_type": "stream",
     "text": [
      "        id  week  center_id  meal_id  checkout_price  base_price  \\\n",
      "0  1379560     1         55     1885          136.83      152.29   \n",
      "1  1466964     1         55     1993          136.83      135.83   \n",
      "2  1346989     1         55     2539          134.86      135.86   \n",
      "3  1338232     1         55     2139          339.50      437.53   \n",
      "4  1448490     1         55     2631          243.50      242.50   \n",
      "\n",
      "   emailer_for_promotion  homepage_featured  city_code  region_code  \\\n",
      "0                      0                  0        647           56   \n",
      "1                      0                  0        647           56   \n",
      "2                      0                  0        647           56   \n",
      "3                      0                  0        647           56   \n",
      "4                      0                  0        647           56   \n",
      "\n",
      "       ...       category_Rice Bowl  category_Salad  category_Sandwich  \\\n",
      "0      ...                        0               0                  0   \n",
      "1      ...                        0               0                  0   \n",
      "2      ...                        0               0                  0   \n",
      "3      ...                        0               0                  0   \n",
      "4      ...                        0               0                  0   \n",
      "\n",
      "   category_Seafood  category_Soup  category_Starters  cuisine_Continental  \\\n",
      "0                 0              0                  0                    0   \n",
      "1                 0              0                  0                    0   \n",
      "2                 0              0                  0                    0   \n",
      "3                 0              0                  0                    0   \n",
      "4                 0              0                  0                    0   \n",
      "\n",
      "   cuisine_Indian  cuisine_Italian  cuisine_Thai  \n",
      "0               0                0             1  \n",
      "1               0                0             1  \n",
      "2               0                0             1  \n",
      "3               1                0             0  \n",
      "4               1                0             0  \n",
      "\n",
      "[5 rows x 32 columns]\n",
      "        id  week  center_id  meal_id  checkout_price  base_price  \\\n",
      "0  1028232   146         55     1885          158.11      159.11   \n",
      "1  1127204   146         55     1993          160.11      159.11   \n",
      "2  1212707   146         55     2539          157.14      159.14   \n",
      "3  1082698   146         55     2631          162.02      162.02   \n",
      "4  1400926   146         55     1248          163.93      163.93   \n",
      "\n",
      "   emailer_for_promotion  homepage_featured  city_code  region_code  \\\n",
      "0                      0                  0        647           56   \n",
      "1                      0                  0        647           56   \n",
      "2                      0                  0        647           56   \n",
      "3                      0                  0        647           56   \n",
      "4                      0                  0        647           56   \n",
      "\n",
      "       ...       category_Rice Bowl  category_Salad  category_Sandwich  \\\n",
      "0      ...                        0               0                  0   \n",
      "1      ...                        0               0                  0   \n",
      "2      ...                        0               0                  0   \n",
      "3      ...                        0               0                  0   \n",
      "4      ...                        0               0                  0   \n",
      "\n",
      "   category_Seafood  category_Soup  category_Starters  cuisine_Continental  \\\n",
      "0                 0              0                  0                    0   \n",
      "1                 0              0                  0                    0   \n",
      "2                 0              0                  0                    0   \n",
      "3                 0              0                  0                    0   \n",
      "4                 0              0                  0                    0   \n",
      "\n",
      "   cuisine_Indian  cuisine_Italian  cuisine_Thai  \n",
      "0               0                0             1  \n",
      "1               0                0             1  \n",
      "2               0                0             1  \n",
      "3               1                0             0  \n",
      "4               1                0             0  \n",
      "\n",
      "[5 rows x 32 columns]\n"
     ]
    }
   ],
   "source": [
    "X_ohe=pd.get_dummies(train_data_com);\n",
    "X_test_ohe=pd.get_dummies(test_data);\n",
    "#X_test_ohe.head()\n",
    "print(X_ohe.head());\n",
    "print(X_test_ohe.head());"
   ]
  },
  {
   "cell_type": "code",
   "execution_count": 11,
   "metadata": {},
   "outputs": [
    {
     "data": {
      "text/html": [
       "<div>\n",
       "<style scoped>\n",
       "    .dataframe tbody tr th:only-of-type {\n",
       "        vertical-align: middle;\n",
       "    }\n",
       "\n",
       "    .dataframe tbody tr th {\n",
       "        vertical-align: top;\n",
       "    }\n",
       "\n",
       "    .dataframe thead th {\n",
       "        text-align: right;\n",
       "    }\n",
       "</style>\n",
       "<table border=\"1\" class=\"dataframe\">\n",
       "  <thead>\n",
       "    <tr style=\"text-align: right;\">\n",
       "      <th></th>\n",
       "      <th>id</th>\n",
       "      <th>week</th>\n",
       "      <th>center_id</th>\n",
       "      <th>meal_id</th>\n",
       "      <th>checkout_price</th>\n",
       "      <th>base_price</th>\n",
       "      <th>emailer_for_promotion</th>\n",
       "      <th>homepage_featured</th>\n",
       "      <th>city_code</th>\n",
       "      <th>region_code</th>\n",
       "      <th>center_type</th>\n",
       "      <th>op_area</th>\n",
       "      <th>category</th>\n",
       "      <th>cuisine</th>\n",
       "    </tr>\n",
       "  </thead>\n",
       "  <tbody>\n",
       "    <tr>\n",
       "      <th>0</th>\n",
       "      <td>1379560</td>\n",
       "      <td>1</td>\n",
       "      <td>55</td>\n",
       "      <td>1885</td>\n",
       "      <td>136.83</td>\n",
       "      <td>152.29</td>\n",
       "      <td>0</td>\n",
       "      <td>0</td>\n",
       "      <td>647</td>\n",
       "      <td>56</td>\n",
       "      <td>TYPE_C</td>\n",
       "      <td>2.0</td>\n",
       "      <td>Beverages</td>\n",
       "      <td>Thai</td>\n",
       "    </tr>\n",
       "    <tr>\n",
       "      <th>1</th>\n",
       "      <td>1466964</td>\n",
       "      <td>1</td>\n",
       "      <td>55</td>\n",
       "      <td>1993</td>\n",
       "      <td>136.83</td>\n",
       "      <td>135.83</td>\n",
       "      <td>0</td>\n",
       "      <td>0</td>\n",
       "      <td>647</td>\n",
       "      <td>56</td>\n",
       "      <td>TYPE_C</td>\n",
       "      <td>2.0</td>\n",
       "      <td>Beverages</td>\n",
       "      <td>Thai</td>\n",
       "    </tr>\n",
       "    <tr>\n",
       "      <th>2</th>\n",
       "      <td>1346989</td>\n",
       "      <td>1</td>\n",
       "      <td>55</td>\n",
       "      <td>2539</td>\n",
       "      <td>134.86</td>\n",
       "      <td>135.86</td>\n",
       "      <td>0</td>\n",
       "      <td>0</td>\n",
       "      <td>647</td>\n",
       "      <td>56</td>\n",
       "      <td>TYPE_C</td>\n",
       "      <td>2.0</td>\n",
       "      <td>Beverages</td>\n",
       "      <td>Thai</td>\n",
       "    </tr>\n",
       "    <tr>\n",
       "      <th>3</th>\n",
       "      <td>1338232</td>\n",
       "      <td>1</td>\n",
       "      <td>55</td>\n",
       "      <td>2139</td>\n",
       "      <td>339.50</td>\n",
       "      <td>437.53</td>\n",
       "      <td>0</td>\n",
       "      <td>0</td>\n",
       "      <td>647</td>\n",
       "      <td>56</td>\n",
       "      <td>TYPE_C</td>\n",
       "      <td>2.0</td>\n",
       "      <td>Beverages</td>\n",
       "      <td>Indian</td>\n",
       "    </tr>\n",
       "    <tr>\n",
       "      <th>4</th>\n",
       "      <td>1448490</td>\n",
       "      <td>1</td>\n",
       "      <td>55</td>\n",
       "      <td>2631</td>\n",
       "      <td>243.50</td>\n",
       "      <td>242.50</td>\n",
       "      <td>0</td>\n",
       "      <td>0</td>\n",
       "      <td>647</td>\n",
       "      <td>56</td>\n",
       "      <td>TYPE_C</td>\n",
       "      <td>2.0</td>\n",
       "      <td>Beverages</td>\n",
       "      <td>Indian</td>\n",
       "    </tr>\n",
       "    <tr>\n",
       "      <th>5</th>\n",
       "      <td>1270037</td>\n",
       "      <td>1</td>\n",
       "      <td>55</td>\n",
       "      <td>1248</td>\n",
       "      <td>251.23</td>\n",
       "      <td>252.23</td>\n",
       "      <td>0</td>\n",
       "      <td>0</td>\n",
       "      <td>647</td>\n",
       "      <td>56</td>\n",
       "      <td>TYPE_C</td>\n",
       "      <td>2.0</td>\n",
       "      <td>Beverages</td>\n",
       "      <td>Indian</td>\n",
       "    </tr>\n",
       "    <tr>\n",
       "      <th>6</th>\n",
       "      <td>1191377</td>\n",
       "      <td>1</td>\n",
       "      <td>55</td>\n",
       "      <td>1778</td>\n",
       "      <td>183.36</td>\n",
       "      <td>184.36</td>\n",
       "      <td>0</td>\n",
       "      <td>0</td>\n",
       "      <td>647</td>\n",
       "      <td>56</td>\n",
       "      <td>TYPE_C</td>\n",
       "      <td>2.0</td>\n",
       "      <td>Beverages</td>\n",
       "      <td>Italian</td>\n",
       "    </tr>\n",
       "    <tr>\n",
       "      <th>7</th>\n",
       "      <td>1499955</td>\n",
       "      <td>1</td>\n",
       "      <td>55</td>\n",
       "      <td>1062</td>\n",
       "      <td>182.36</td>\n",
       "      <td>183.36</td>\n",
       "      <td>0</td>\n",
       "      <td>0</td>\n",
       "      <td>647</td>\n",
       "      <td>56</td>\n",
       "      <td>TYPE_C</td>\n",
       "      <td>2.0</td>\n",
       "      <td>Beverages</td>\n",
       "      <td>Italian</td>\n",
       "    </tr>\n",
       "    <tr>\n",
       "      <th>8</th>\n",
       "      <td>1025244</td>\n",
       "      <td>1</td>\n",
       "      <td>55</td>\n",
       "      <td>2707</td>\n",
       "      <td>193.06</td>\n",
       "      <td>192.06</td>\n",
       "      <td>0</td>\n",
       "      <td>0</td>\n",
       "      <td>647</td>\n",
       "      <td>56</td>\n",
       "      <td>TYPE_C</td>\n",
       "      <td>2.0</td>\n",
       "      <td>Beverages</td>\n",
       "      <td>Italian</td>\n",
       "    </tr>\n",
       "    <tr>\n",
       "      <th>9</th>\n",
       "      <td>1054194</td>\n",
       "      <td>1</td>\n",
       "      <td>55</td>\n",
       "      <td>1207</td>\n",
       "      <td>325.92</td>\n",
       "      <td>384.18</td>\n",
       "      <td>0</td>\n",
       "      <td>1</td>\n",
       "      <td>647</td>\n",
       "      <td>56</td>\n",
       "      <td>TYPE_C</td>\n",
       "      <td>2.0</td>\n",
       "      <td>Beverages</td>\n",
       "      <td>Continental</td>\n",
       "    </tr>\n",
       "  </tbody>\n",
       "</table>\n",
       "</div>"
      ],
      "text/plain": [
       "        id  week  center_id  meal_id  checkout_price  base_price  \\\n",
       "0  1379560     1         55     1885          136.83      152.29   \n",
       "1  1466964     1         55     1993          136.83      135.83   \n",
       "2  1346989     1         55     2539          134.86      135.86   \n",
       "3  1338232     1         55     2139          339.50      437.53   \n",
       "4  1448490     1         55     2631          243.50      242.50   \n",
       "5  1270037     1         55     1248          251.23      252.23   \n",
       "6  1191377     1         55     1778          183.36      184.36   \n",
       "7  1499955     1         55     1062          182.36      183.36   \n",
       "8  1025244     1         55     2707          193.06      192.06   \n",
       "9  1054194     1         55     1207          325.92      384.18   \n",
       "\n",
       "   emailer_for_promotion  homepage_featured  city_code  region_code  \\\n",
       "0                      0                  0        647           56   \n",
       "1                      0                  0        647           56   \n",
       "2                      0                  0        647           56   \n",
       "3                      0                  0        647           56   \n",
       "4                      0                  0        647           56   \n",
       "5                      0                  0        647           56   \n",
       "6                      0                  0        647           56   \n",
       "7                      0                  0        647           56   \n",
       "8                      0                  0        647           56   \n",
       "9                      0                  1        647           56   \n",
       "\n",
       "  center_type  op_area   category      cuisine  \n",
       "0      TYPE_C      2.0  Beverages         Thai  \n",
       "1      TYPE_C      2.0  Beverages         Thai  \n",
       "2      TYPE_C      2.0  Beverages         Thai  \n",
       "3      TYPE_C      2.0  Beverages       Indian  \n",
       "4      TYPE_C      2.0  Beverages       Indian  \n",
       "5      TYPE_C      2.0  Beverages       Indian  \n",
       "6      TYPE_C      2.0  Beverages      Italian  \n",
       "7      TYPE_C      2.0  Beverages      Italian  \n",
       "8      TYPE_C      2.0  Beverages      Italian  \n",
       "9      TYPE_C      2.0  Beverages  Continental  "
      ]
     },
     "execution_count": 11,
     "metadata": {},
     "output_type": "execute_result"
    }
   ],
   "source": [
    "train_data_com.head(10)"
   ]
  },
  {
   "cell_type": "code",
   "execution_count": 12,
   "metadata": {},
   "outputs": [],
   "source": [
    "#feature_scaling(test_data['base_price'])\n",
    "from sklearn.preprocessing import StandardScaler;\n",
    "\n",
    "scaler=StandardScaler();\n",
    "X_ohe_scaled = scaler.fit_transform(X_ohe); #X_ohe.copy();\n",
    "X_test_ohe_scaled = scaler.transform(X_test_ohe); #X_test_ohe.copy();\n",
    "\n"
   ]
  },
  {
   "cell_type": "code",
   "execution_count": 13,
   "metadata": {},
   "outputs": [],
   "source": [
    "#X_ohe_scaled=train_data_com.copy();\n",
    "X_train,X_valid,y_train,y_valid=train_test_split(X_ohe_scaled,y,test_size=0.3,random_state=30);"
   ]
  },
  {
   "cell_type": "code",
   "execution_count": 19,
   "metadata": {},
   "outputs": [],
   "source": [
    "from sklearn.ensemble import RandomForestRegressor;\n",
    "rfr=RandomForestRegressor(n_estimators=150,random_state=0);\n",
    "\n",
    "rfr.fit(X_train,y_train);\n",
    "rfr_pred=rfr.predict(X_valid);"
   ]
  },
  {
   "cell_type": "code",
   "execution_count": 20,
   "metadata": {},
   "outputs": [
    {
     "name": "stdout",
     "output_type": "stream",
     "text": [
      "23.110387456343915\n",
      "135586\n",
      "0\n"
     ]
    }
   ],
   "source": [
    "rfr_pred_res=np.exp(rfr_pred);\n",
    "rfr_pred_res=rfr_pred_res.astype(np.int64);\n",
    "\n",
    "y_valid_res=np.exp(y_valid);\n",
    "y_valid_res=y_valid_res.astype(np.int64);\n",
    "\n",
    "#print(type(rfr_pred_res));\n",
    "#print(type(y_valid_res));\n",
    "print(100*mean_squared_log_error(y_valid_res,rfr_pred_res));\n",
    "print(np.sum(np.array(rfr_pred_res) >= 0, axis=0));\n",
    "print(np.sum(np.array(rfr_pred_res) < 0, axis=0));"
   ]
  },
  {
   "cell_type": "code",
   "execution_count": null,
   "metadata": {},
   "outputs": [],
   "source": []
  },
  {
   "cell_type": "code",
   "execution_count": 16,
   "metadata": {},
   "outputs": [],
   "source": [
    "#rfr2=RandomForestRegressor(n_estimators=100,random_state=0);\n",
    "#rfr2.fit(X_ohe_scaled,y);\n",
    "#test_pred_2=rfr2.predict(X"
   ]
  },
  {
   "cell_type": "code",
   "execution_count": 17,
   "metadata": {},
   "outputs": [
    {
     "data": {
      "text/plain": [
       "'rfr_test_pred=rfr2.predict(X_test_ohe_scaled);\\ntest_pred_res=np.exp(rfr_test_pred);\\ntest_pred=test_pred_res.astype(np.int64);\\ntest_pred'"
      ]
     },
     "execution_count": 17,
     "metadata": {},
     "output_type": "execute_result"
    }
   ],
   "source": [
    "'''rfr_test_pred=rfr2.predict(X_test_ohe_scaled);\n",
    "test_pred_res=np.exp(rfr_test_pred);\n",
    "test_pred=test_pred_res.astype(np.int64);\n",
    "test_pred'''"
   ]
  },
  {
   "cell_type": "code",
   "execution_count": 18,
   "metadata": {},
   "outputs": [
    {
     "data": {
      "text/plain": [
       "'test_pred_ser=pd.Series(test_pred,name=\"num_orders\");\\nprint(type(test_pred));\\nprint(type(test_pred_ser));\\nprint(type(test_data[\"id\"]));\\nid_test=test_data[\"id\"];\\ndf_rfc = pd.concat([id_test,test_pred_ser],axis=1);\\ndf_rfc.head()\\ndf_rfc.to_csv(\"submission_rfr_V6.csv\",index=False);'"
      ]
     },
     "execution_count": 18,
     "metadata": {},
     "output_type": "execute_result"
    }
   ],
   "source": [
    "'''test_pred_ser=pd.Series(test_pred,name=\"num_orders\");\n",
    "print(type(test_pred));\n",
    "print(type(test_pred_ser));\n",
    "print(type(test_data[\"id\"]));\n",
    "id_test=test_data[\"id\"];\n",
    "df_rfc = pd.concat([id_test,test_pred_ser],axis=1);\n",
    "df_rfc.head()\n",
    "df_rfc.to_csv(\"submission_rfr_V6.csv\",index=False);'''"
   ]
  },
  {
   "cell_type": "code",
   "execution_count": 24,
   "metadata": {},
   "outputs": [],
   "source": [
    "from sklearn.linear_model import LinearRegression,Ridge,Lasso\n",
    "from sklearn.model_selection import GridSearchCV\n",
    "from sklearn import metrics\n",
    "import warnings\n",
    "pd.options.mode.chained_assignment = None\n",
    "warnings.filterwarnings(\"ignore\", category=DeprecationWarning)\n"
   ]
  },
  {
   "cell_type": "code",
   "execution_count": 25,
   "metadata": {},
   "outputs": [
    {
     "name": "stdout",
     "output_type": "stream",
     "text": [
      "{'alpha': 0.1, 'max_iter': 3000}\n"
     ]
    }
   ],
   "source": [
    "ridge_m_ = Ridge()\n",
    "ridge_params_ = { 'max_iter':[3000],'alpha':[0.1, 1, 2, 3, 4, 10, 30,100,200,300,400,800,900,1000]}\n",
    "rmsle=mean_squared_log_error\n",
    "rmsle_scorer = metrics.make_scorer(rmsle, greater_is_better=False)\n",
    "grid_ridge_m = GridSearchCV( ridge_m_,\n",
    "                          ridge_params_,\n",
    "                          scoring = rmsle_scorer,\n",
    "                          cv=5)\n",
    "grid_ridge_m.fit(X_train,y_train);\n",
    "rfr_pred=rfr.predict(X_valid);\n",
    "grid_preds = grid_ridge_m.predict(X_valid)\n",
    "print (grid_ridge_m.best_params_)\n",
    "\n"
   ]
  },
  {
   "cell_type": "code",
   "execution_count": 26,
   "metadata": {},
   "outputs": [],
   "source": [
    "grid_preds_res=np.exp(grid_preds);\n",
    "grid_preds_res=grid_preds_res.astype(np.int64);\n",
    "\n",
    "y_valid_res=np.exp(y_valid);\n",
    "y_valid_res=y_valid_res.astype(np.int64);"
   ]
  },
  {
   "cell_type": "code",
   "execution_count": 28,
   "metadata": {},
   "outputs": [
    {
     "name": "stdout",
     "output_type": "stream",
     "text": [
      "48.79186466422245\n",
      "135586\n",
      "0\n"
     ]
    }
   ],
   "source": [
    "print(100*mean_squared_log_error(y_valid_res,grid_preds_res));\n",
    "print(np.sum(np.array(grid_preds_res) >= 0, axis=0));\n",
    "print(np.sum(np.array(grid_preds_res) < 0, axis=0));"
   ]
  },
  {
   "cell_type": "code",
   "execution_count": 29,
   "metadata": {},
   "outputs": [],
   "source": [
    "from sklearn.ensemble import GradientBoostingRegressor\n",
    "gbm = GradientBoostingRegressor(n_estimators=100,alpha=0.01); ### Test 0.41\n",
    "gbm.fit(X_train,y_train)\n",
    "gbm_pred=gbm.predict(X_valid);"
   ]
  },
  {
   "cell_type": "code",
   "execution_count": 30,
   "metadata": {},
   "outputs": [
    {
     "name": "stdout",
     "output_type": "stream",
     "text": [
      "41.69505590087274\n",
      "135586\n",
      "0\n"
     ]
    }
   ],
   "source": [
    "gbm_pred_res=np.exp(gbm_pred);\n",
    "gbm_pred_res=gbm_pred_res.astype(np.int64);\n",
    "\n",
    "y_valid_res=np.exp(y_valid);\n",
    "y_valid_res=y_valid_res.astype(np.int64);\n",
    "\n",
    "#print(type(rfr_pred_res));\n",
    "#print(type(y_valid_res));\n",
    "print(100*mean_squared_log_error(y_valid_res,gbm_pred_res));\n",
    "print(np.sum(np.array(gbm_pred_res) >= 0, axis=0));\n",
    "print(np.sum(np.array(gbm_pred_res) < 0, axis=0));"
   ]
  },
  {
   "cell_type": "code",
   "execution_count": 31,
   "metadata": {},
   "outputs": [],
   "source": [
    "from sklearn.cross_validation import ShuffleSplit,train_test_split \n",
    "from sklearn import metrics \n",
    "#from sklearn.learning_curve import learning_curve \n",
    "#from sklearn.linear_model import LinearRegression\n",
    "from sklearn.ensemble import GradientBoostingRegressor \n",
    "from sklearn.grid_search import GridSearchCV \n"
   ]
  },
  {
   "cell_type": "code",
   "execution_count": 39,
   "metadata": {},
   "outputs": [],
   "source": [
    "X_train=X_ohe_scaled\n",
    "y_train=y"
   ]
  },
  {
   "cell_type": "code",
   "execution_count": 40,
   "metadata": {},
   "outputs": [],
   "source": [
    "def GradientBooster(param_grid, n_jobs):\n",
    "    estimator = GradientBoostingRegressor()\n",
    "    cv = ShuffleSplit(X_train.shape[0], n_iter=10, test_size=0.2) \n",
    "    classifier = GridSearchCV(estimator=estimator, cv=cv, param_grid=param_grid, n_jobs=n_jobs) \n",
    "    classifier.fit(X_train, y_train)\n",
    "    print(\"Best Estimator learned through GridSearch\")\n",
    "    print (\"classifier.best_estimator_\")\n",
    "    return cv, classifier.best_estimator_"
   ]
  },
  {
   "cell_type": "code",
   "execution_count": 41,
   "metadata": {},
   "outputs": [],
   "source": [
    "param_grid={'n_estimators':[100],\n",
    "            'learning_rate': [0.1,0.05, 0.02, 0.01], \n",
    "            'max_depth':[6,4,6], \n",
    "            'min_samples_leaf':[3,5,9,17], \n",
    "            'max_features':[1.0,0.3,0.1] } \n",
    "n_jobs=4"
   ]
  },
  {
   "cell_type": "code",
   "execution_count": null,
   "metadata": {},
   "outputs": [],
   "source": [
    "cv,best_est=GradientBooster(param_grid, n_jobs)"
   ]
  },
  {
   "cell_type": "code",
   "execution_count": null,
   "metadata": {},
   "outputs": [],
   "source": []
  }
 ],
 "metadata": {
  "kernelspec": {
   "display_name": "Python 3",
   "language": "python",
   "name": "python3"
  },
  "language_info": {
   "codemirror_mode": {
    "name": "ipython",
    "version": 3
   },
   "file_extension": ".py",
   "mimetype": "text/x-python",
   "name": "python",
   "nbconvert_exporter": "python",
   "pygments_lexer": "ipython3",
   "version": "3.5.2"
  }
 },
 "nbformat": 4,
 "nbformat_minor": 2
}
